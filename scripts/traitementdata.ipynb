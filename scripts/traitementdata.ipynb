{
 "metadata": {
  "language_info": {
   "codemirror_mode": {
    "name": "ipython",
    "version": 3
   },
   "file_extension": ".py",
   "mimetype": "text/x-python",
   "name": "python",
   "nbconvert_exporter": "python",
   "pygments_lexer": "ipython3",
   "version": 3
  },
  "orig_nbformat": 2
 },
 "nbformat": 4,
 "nbformat_minor": 2,
 "cells": [
  {
   "cell_type": "code",
   "execution_count": null,
   "metadata": {},
   "outputs": [],
   "source": [
    "data=pd.read_csv('../src/pathbased_out.txt')\n",
    "\n",
    "def kmeans(data,nbclusters):\n",
    "    kmeans=KMeans(n_clusters=nbclusters,init=\"k-means++\", n_init=2)\n",
    "    kmeans.fit(data)\n",
    "    kmeans.predict(data)\n",
    "    reskmeans=kmeans.transform(data)\n",
    "    return(kmeans.cluster_centers_,kmeans.labels_,reskmeans)\n",
    "\n",
    "labelskmeanspathbased=kmeans(data,3)[1]\n",
    "x=data.iloc[:,0]\n",
    "y=data.iloc[:,1]\n",
    "plt.xlabel(\"x\")\n",
    "plt.ylabel(\"y\")\n",
    "plt.title(\"Données Jain.txt Traitées par Kmeans\")\n",
    "plt.scatter(x,y,c=labelskmeanspathbased)\n",
    "plt.show()\n",
    "\n",
    "#Comparaison avec les données :\n",
    "rand = sklearn.metrics.adjusted_rand_score(labelspathbased,labelskmeanspathbased)\n",
    "print(\"Indice de Rand Ajusté = \",rand)\n",
    "print(\"Choix de 3 Clusters\")"
   ]
  }
 ]
}