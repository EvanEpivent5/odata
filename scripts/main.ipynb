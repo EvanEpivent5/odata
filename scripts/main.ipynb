{
 "metadata": {
  "language_info": {
   "codemirror_mode": {
    "name": "ipython",
    "version": 3
   },
   "file_extension": ".py",
   "mimetype": "text/x-python",
   "name": "python",
   "nbconvert_exporter": "python",
   "pygments_lexer": "ipython3",
   "version": "3.8.3-final"
  },
  "orig_nbformat": 2,
  "kernelspec": {
   "name": "python38364bitodatavenv365e2decd053427fb4ac8b3b5c3708b0",
   "display_name": "Python 3.8.3 64-bit ('odata_venv')"
  }
 },
 "nbformat": 4,
 "nbformat_minor": 2,
 "cells": [
  {
   "cell_type": "code",
   "execution_count": 11,
   "metadata": {},
   "outputs": [],
   "source": [
    "import pandas as pd\n",
    "import matplotlib.pyplot as plt\n",
    "import numpy as np\n",
    "import os"
   ]
  },
  {
   "cell_type": "code",
   "execution_count": 14,
   "metadata": {},
   "outputs": [
    {
     "output_type": "stream",
     "name": "stdout",
     "text": [
      "Index(['0.85\\t17.45\\t2'], dtype='object')\n"
     ]
    }
   ],
   "source": [
    "data_1 = pd.read_csv(\"../src/jain.txt\", sep=\" \")\n",
    "data_2 = pd.read_csv(\"../src/g2-2-20.txt\")\n",
    "data_3 = pd.read_csv(\"../src/g2-2-100.txt\")\n",
    "data_4 = pd.read_csv(\"../src/pathbased.txt\")\n",
    "\n",
    "print(data_1)"
   ]
  },
  {
   "cell_type": "code",
   "execution_count": null,
   "metadata": {},
   "outputs": [],
   "source": []
  }
 ]
}