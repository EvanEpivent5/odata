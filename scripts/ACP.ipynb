{
 "metadata": {
  "language_info": {
   "codemirror_mode": {
    "name": "ipython",
    "version": 3
   },
   "file_extension": ".py",
   "mimetype": "text/x-python",
   "name": "python",
   "nbconvert_exporter": "python",
   "pygments_lexer": "ipython3",
   "version": "3.8.5-final"
  },
  "orig_nbformat": 2,
  "kernelspec": {
   "name": "python3",
   "display_name": "Python 3"
  }
 },
 "nbformat": 4,
 "nbformat_minor": 2,
 "cells": [
  {
   "cell_type": "code",
   "execution_count": 76,
   "metadata": {},
   "outputs": [],
   "source": [
    "import numpy as np\n",
    "import matplotlib.pyplot as plt\n",
    "import scipy as sc\n",
    "from sklearn.decomposition import PCA\n",
    "import pandas as pd\n",
    "from sklearn.preprocessing import StandardScaler"
   ]
  },
  {
   "cell_type": "code",
   "execution_count": 79,
   "metadata": {},
   "outputs": [],
   "source": [
    "data = pd.read_csv(\"../src/data.csv\")\n",
    "data_r = data.fillna(data.mean())"
   ]
  },
  {
   "cell_type": "code",
   "execution_count": 83,
   "metadata": {},
   "outputs": [],
   "source": [
    "def estiACP(data): #Fonction permettant d'estimer le nombre d'axes à conserver\n",
    "    acp1=PCA(svd_solver='full')\n",
    "    print(acp)\n",
    "    r=acp1.fit(data)\n",
    "    composantes=acp1.components_\n",
    "    varexpli=acp1.explained_variance_ratio_\n",
    "    val=acp.singular_values_\n",
    "    print(\"parts de variance expliquées par les axes\",varexpli)\n",
    "    print(val)\n",
    "    l=[i for i in range(1,len(varexpli)+1)]\n",
    "    plt.plot(l,varexpli)\n",
    "    plt.show()"
   ]
  },
  {
   "cell_type": "code",
   "execution_count": 88,
   "metadata": {},
   "outputs": [],
   "source": [
    "def ACP(data,nb_composantes_principales): #Prend en entrée les données (9 dimensions) et appliqye l'ACP en conservant le nombre de composantes principales déclaré, trace ensuite les points correspondant aux données projetées sur ces axes principaux\n",
    "    acp2=PCA(n_components=nb_composantes_principales)\n",
    "    donneesproj=acp2.fit_transform(data)\n",
    "    return(donneesproj)"
   ]
  },
  {
   "cell_type": "code",
   "execution_count": null,
   "metadata": {},
   "outputs": [],
   "source": []
  }
 ]
}